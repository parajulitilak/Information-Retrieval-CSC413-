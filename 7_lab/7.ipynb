{
 "cells": [
  {
   "cell_type": "markdown",
   "id": "8a358717",
   "metadata": {},
   "source": [
    "# LAB 7 : Build a recommender system for online music store.\n",
    "### Building a Recommendation System with Matrix Factorization using Singular Value Decomposition (SVD)\n",
    "\n",
    "### Introduction\n",
    "\n",
    "Recommendation systems are widely used in various online platforms to provide personalized recommendations to users based on their preferences and past interactions. Matrix factorization is a popular technique for building recommendation systems, where the user-item interaction matrix is decomposed into lower-dimensional matrices to capture latent factors.\n",
    "\n",
    "### Algorithm: Singular Value Decomposition (SVD)\n",
    "\n",
    "Singular Value Decomposition (SVD) is a matrix factorization technique that decomposes a matrix into three matrices representing orthogonal components:\n",
    "\n",
    "Given a matrix $A$ of size $m \\times n$:\n",
    "- $U$ (left singular vectors) is an $m \\times r$ orthogonal matrix.\n",
    "- $\\Sigma$ (diagonal matrix of singular values) is an $r \\times r$ matrix.\n",
    "- $V^T$ (right singular vectors) is an $r \\times n$ orthogonal matrix.\n",
    "\n",
    "The SVD algorithm decomposes the original matrix $A$ into the product of these three matrices:\n",
    "$$ A = U \\Sigma V^T $$\n",
    "\n",
    "### Formulas:\n",
    "\n",
    "1. **Matrix Factorization:**\n",
    "$$ A \\approx U_k \\Sigma_k V_k^T $$\n",
    "Where:\n",
    "    - $U_k$ is the $m \\times k$ matrix containing the first $k$ columns of $U$.\n",
    "    - $\\Sigma_k$ is the $k \\times k$ matrix containing the first $k$ singular values.\n",
    "    - $V_k^T$ is the $k \\times n$ matrix containing the first $k$ rows of $V^T$.\n",
    "\n",
    "2. **Mean Squared Error (MSE):**\n",
    "$$ MSE = \\frac{1}{mn} \\sum_{i=1}^{m} \\sum_{j=1}^{n} (A_{ij} - \\hat{A}_{ij})^2 $$\n",
    "\n",
    "### Steps:\n",
    "\n",
    "1. **Loading and Inspecting the Data**: Load the dataset and inspect its structure.\n",
    "2. **Exploratory Data Analysis (EDA)**: Analyze the distribution of playlists, artists, and tracks.\n",
    "3. **Data Preparation**: Encode categorical variables and split the data into training and testing sets.\n",
    "4. **Model Training**: Apply Singular Value Decomposition (SVD) to decompose the user-item interaction matrix.\n",
    "5. **Model Evaluation**: Evaluate the model using Mean Squared Error (MSE).\n",
    "6. **Recommendation Generation**: Generate top-N recommendations for users based on predicted ratings.\n",
    "\n",
    "### Conclusion\n",
    "\n",
    "In this notebook, we demonstrated how to build a recommendation system using matrix factorization with Singular Value Decomposition (SVD). By decomposing the user-item interaction matrix, we were able to generate personalized recommendations for users based on their past interactions with items. Further optimizations and enhancements can be explored to improve the performance and scalability of the recommendation system.\n"
   ]
  },
  {
   "cell_type": "markdown",
   "id": "da5ef7b5",
   "metadata": {},
   "source": [
    "## Scrapping dataset from the link and saving in .csv format : \n",
    "[Link to dataset](https://raw.githubusercontent.com/Gurobi/modeling-examples/master/music_recommendation/user_playlist_data.csv)"
   ]
  },
  {
   "cell_type": "code",
   "execution_count": 1,
   "id": "30f827ea",
   "metadata": {},
   "outputs": [
    {
     "name": "stdout",
     "output_type": "stream",
     "text": [
      "Data has been scraped and saved to user_playlist.csv\n"
     ]
    }
   ],
   "source": [
    "import pandas as pd\n",
    "\n",
    "# URL of the CSV file\n",
    "url = \"https://raw.githubusercontent.com/Gurobi/modeling-examples/master/music_recommendation/user_playlist_data.csv\"\n",
    "\n",
    "# Read the CSV data from the URL\n",
    "df = pd.read_csv(url)\n",
    "\n",
    "# Save the data to a CSV file named user_playlist.csv\n",
    "df.to_csv(\"user_playlist.csv\", index=False)\n",
    "\n",
    "print(\"Data has been scraped and saved to user_playlist.csv\")\n"
   ]
  },
  {
   "cell_type": "markdown",
   "id": "b9236ae1",
   "metadata": {},
   "source": [
    "## import libraries"
   ]
  },
  {
   "cell_type": "code",
   "execution_count": 2,
   "id": "ef845b30",
   "metadata": {},
   "outputs": [],
   "source": [
    "import pandas as pd\n",
    "from sklearn.preprocessing import LabelEncoder\n",
    "import seaborn as sns\n",
    "import matplotlib.pyplot as plt"
   ]
  },
  {
   "cell_type": "markdown",
   "id": "2f394daf",
   "metadata": {},
   "source": [
    "# Step 1: Loading and Inspecting the Data"
   ]
  },
  {
   "cell_type": "markdown",
   "id": "7cce51f6",
   "metadata": {},
   "source": [
    "### 1.1 Load the dataset from the provided CSV file."
   ]
  },
  {
   "cell_type": "code",
   "execution_count": 3,
   "id": "0a46793b",
   "metadata": {},
   "outputs": [],
   "source": [
    "df = pd.read_csv(\"user_playlist.csv\")\n"
   ]
  },
  {
   "cell_type": "markdown",
   "id": "6e227ab8",
   "metadata": {},
   "source": [
    "### 1.2 Inspect the structure of the dataset to understand its attributes and overall information."
   ]
  },
  {
   "cell_type": "code",
   "execution_count": 4,
   "id": "e82c7ce4",
   "metadata": {
    "scrolled": false
   },
   "outputs": [
    {
     "data": {
      "text/html": [
       "<div>\n",
       "<style scoped>\n",
       "    .dataframe tbody tr th:only-of-type {\n",
       "        vertical-align: middle;\n",
       "    }\n",
       "\n",
       "    .dataframe tbody tr th {\n",
       "        vertical-align: top;\n",
       "    }\n",
       "\n",
       "    .dataframe thead th {\n",
       "        text-align: right;\n",
       "    }\n",
       "</style>\n",
       "<table border=\"1\" class=\"dataframe\">\n",
       "  <thead>\n",
       "    <tr style=\"text-align: right;\">\n",
       "      <th></th>\n",
       "      <th>user_id</th>\n",
       "      <th>artist_id</th>\n",
       "      <th>artist</th>\n",
       "      <th>track</th>\n",
       "      <th>playlist</th>\n",
       "    </tr>\n",
       "  </thead>\n",
       "  <tbody>\n",
       "    <tr>\n",
       "      <th>0</th>\n",
       "      <td>785</td>\n",
       "      <td>622</td>\n",
       "      <td>Elvis Costello</td>\n",
       "      <td>(The Angels Wanna Wear My) Red Shoes</td>\n",
       "      <td>HARD ROCK 2010</td>\n",
       "    </tr>\n",
       "    <tr>\n",
       "      <th>1</th>\n",
       "      <td>785</td>\n",
       "      <td>622</td>\n",
       "      <td>Elvis Costello</td>\n",
       "      <td>Alison</td>\n",
       "      <td>HARD ROCK 2010</td>\n",
       "    </tr>\n",
       "    <tr>\n",
       "      <th>2</th>\n",
       "      <td>785</td>\n",
       "      <td>622</td>\n",
       "      <td>Elvis Costello</td>\n",
       "      <td>Tramp The Dirt Down</td>\n",
       "      <td>HARD ROCK 2010</td>\n",
       "    </tr>\n",
       "    <tr>\n",
       "      <th>3</th>\n",
       "      <td>993</td>\n",
       "      <td>622</td>\n",
       "      <td>Elvis Costello</td>\n",
       "      <td>Don't Let Me Be Misunderstood</td>\n",
       "      <td>Everything at once</td>\n",
       "    </tr>\n",
       "    <tr>\n",
       "      <th>4</th>\n",
       "      <td>487</td>\n",
       "      <td>622</td>\n",
       "      <td>Elvis Costello</td>\n",
       "      <td>Alison</td>\n",
       "      <td>Home</td>\n",
       "    </tr>\n",
       "    <tr>\n",
       "      <th>5</th>\n",
       "      <td>300</td>\n",
       "      <td>622</td>\n",
       "      <td>Elvis Costello</td>\n",
       "      <td>Beautiful</td>\n",
       "      <td>Ángeles</td>\n",
       "    </tr>\n",
       "    <tr>\n",
       "      <th>6</th>\n",
       "      <td>155</td>\n",
       "      <td>622</td>\n",
       "      <td>Elvis Costello</td>\n",
       "      <td>Watching The Detectives - Single Version</td>\n",
       "      <td>Vergaarbaak</td>\n",
       "    </tr>\n",
       "    <tr>\n",
       "      <th>7</th>\n",
       "      <td>155</td>\n",
       "      <td>622</td>\n",
       "      <td>Elvis Costello</td>\n",
       "      <td>She</td>\n",
       "      <td>Voorbeschouwing</td>\n",
       "    </tr>\n",
       "    <tr>\n",
       "      <th>8</th>\n",
       "      <td>317</td>\n",
       "      <td>622</td>\n",
       "      <td>Elvis Costello</td>\n",
       "      <td>Deep Dark Truthful Mirror</td>\n",
       "      <td>We Are Hunted Paramore Chart Jan 12</td>\n",
       "    </tr>\n",
       "    <tr>\n",
       "      <th>9</th>\n",
       "      <td>697</td>\n",
       "      <td>622</td>\n",
       "      <td>Elvis Costello</td>\n",
       "      <td>Alison</td>\n",
       "      <td>All Time Great Songs</td>\n",
       "    </tr>\n",
       "  </tbody>\n",
       "</table>\n",
       "</div>"
      ],
      "text/plain": [
       "   user_id  artist_id          artist  \\\n",
       "0      785        622  Elvis Costello   \n",
       "1      785        622  Elvis Costello   \n",
       "2      785        622  Elvis Costello   \n",
       "3      993        622  Elvis Costello   \n",
       "4      487        622  Elvis Costello   \n",
       "5      300        622  Elvis Costello   \n",
       "6      155        622  Elvis Costello   \n",
       "7      155        622  Elvis Costello   \n",
       "8      317        622  Elvis Costello   \n",
       "9      697        622  Elvis Costello   \n",
       "\n",
       "                                      track  \\\n",
       "0      (The Angels Wanna Wear My) Red Shoes   \n",
       "1                                    Alison   \n",
       "2                       Tramp The Dirt Down   \n",
       "3             Don't Let Me Be Misunderstood   \n",
       "4                                    Alison   \n",
       "5                                 Beautiful   \n",
       "6  Watching The Detectives - Single Version   \n",
       "7                                       She   \n",
       "8                 Deep Dark Truthful Mirror   \n",
       "9                                    Alison   \n",
       "\n",
       "                              playlist  \n",
       "0                       HARD ROCK 2010  \n",
       "1                       HARD ROCK 2010  \n",
       "2                       HARD ROCK 2010  \n",
       "3                   Everything at once  \n",
       "4                                 Home  \n",
       "5                              Ángeles  \n",
       "6                          Vergaarbaak  \n",
       "7                      Voorbeschouwing  \n",
       "8  We Are Hunted Paramore Chart Jan 12  \n",
       "9                 All Time Great Songs  "
      ]
     },
     "execution_count": 4,
     "metadata": {},
     "output_type": "execute_result"
    }
   ],
   "source": [
    "df.head(10)"
   ]
  },
  {
   "cell_type": "code",
   "execution_count": 5,
   "id": "03f19e5d",
   "metadata": {
    "scrolled": true
   },
   "outputs": [
    {
     "name": "stdout",
     "output_type": "stream",
     "text": [
      "<class 'pandas.core.frame.DataFrame'>\n",
      "RangeIndex: 740547 entries, 0 to 740546\n",
      "Data columns (total 5 columns):\n",
      " #   Column     Non-Null Count   Dtype \n",
      "---  ------     --------------   ----- \n",
      " 0   user_id    740547 non-null  int64 \n",
      " 1   artist_id  740547 non-null  int64 \n",
      " 2   artist     740547 non-null  object\n",
      " 3   track      740542 non-null  object\n",
      " 4   playlist   740521 non-null  object\n",
      "dtypes: int64(2), object(3)\n",
      "memory usage: 28.2+ MB\n"
     ]
    }
   ],
   "source": [
    "df.info()"
   ]
  },
  {
   "cell_type": "code",
   "execution_count": 6,
   "id": "92476636",
   "metadata": {},
   "outputs": [
    {
     "data": {
      "text/plain": [
       "user_id       0\n",
       "artist_id     0\n",
       "artist        0\n",
       "track         5\n",
       "playlist     26\n",
       "dtype: int64"
      ]
     },
     "execution_count": 6,
     "metadata": {},
     "output_type": "execute_result"
    }
   ],
   "source": [
    "df.isna().sum()"
   ]
  },
  {
   "cell_type": "markdown",
   "id": "80fdab86",
   "metadata": {},
   "source": [
    "### 1.3 Check for any missing values in the dataset and handle them if necessary."
   ]
  },
  {
   "cell_type": "code",
   "execution_count": 7,
   "id": "c52d8b25",
   "metadata": {},
   "outputs": [
    {
     "data": {
      "text/plain": [
       "(740516, 5)"
      ]
     },
     "execution_count": 7,
     "metadata": {},
     "output_type": "execute_result"
    }
   ],
   "source": [
    "df_cleaned = df.dropna()\n",
    "df_cleaned.shape\n"
   ]
  },
  {
   "cell_type": "code",
   "execution_count": 8,
   "id": "b135486c",
   "metadata": {},
   "outputs": [
    {
     "data": {
      "text/plain": [
       "user_id      0\n",
       "artist_id    0\n",
       "artist       0\n",
       "track        0\n",
       "playlist     0\n",
       "dtype: int64"
      ]
     },
     "execution_count": 8,
     "metadata": {},
     "output_type": "execute_result"
    }
   ],
   "source": [
    "df_cleaned.isna().sum()"
   ]
  },
  {
   "cell_type": "markdown",
   "id": "3c638af0",
   "metadata": {},
   "source": [
    "# Step 2: Exploratory Data Analysis (EDA)"
   ]
  },
  {
   "cell_type": "markdown",
   "id": "c3f17c52",
   "metadata": {},
   "source": [
    "### Step 2.1: Distribution of Playlists\n",
    "We'll create a plot to visualize the top playlists in terms of their occurrence frequency. This will help us understand which playlists are the most popular among users."
   ]
  },
  {
   "cell_type": "code",
   "execution_count": 9,
   "id": "c5a84cd8",
   "metadata": {},
   "outputs": [
    {
     "data": {
      "image/png": "[encoded data removed]",
      "text/plain": [
       "<Figure size 1200x600 with 1 Axes>"
      ]
     },
     "metadata": {},
     "output_type": "display_data"
    }
   ],
   "source": [
    "# Plot the distribution of playlists\n",
    "plt.figure(figsize=(12, 6))\n",
    "sns.countplot(y='playlist', data=df_cleaned, order=df_cleaned['playlist'].value_counts().index[:10])\n",
    "plt.title('Top 10 Playlists')\n",
    "plt.xlabel('Count')\n",
    "plt.ylabel('Playlist')\n",
    "plt.show()\n"
   ]
  },
  {
   "cell_type": "markdown",
   "id": "c0622948",
   "metadata": {},
   "source": [
    "### Step 2.2: Distribution of Artists\n",
    "We'll create a plot to visualize the top artists based on the number of tracks associated with each artist. This will give us insights into which artists are the most prominent in the dataset."
   ]
  },
  {
   "cell_type": "code",
   "execution_count": 10,
   "id": "7be87c93",
   "metadata": {},
   "outputs": [
    {
     "data": {
      "image/png": "[encoded data removed]",
      "text/plain": [
       "<Figure size 1200x600 with 1 Axes>"
      ]
     },
     "metadata": {},
     "output_type": "display_data"
    }
   ],
   "source": [
    "# Plot the distribution of artists\n",
    "plt.figure(figsize=(12, 6))\n",
    "sns.countplot(y='artist', data=df_cleaned, order=df_cleaned['artist'].value_counts().index[:10])\n",
    "plt.title('Top 10 Artists')\n",
    "plt.xlabel('Count')\n",
    "plt.ylabel('Artist')\n",
    "plt.show()"
   ]
  },
  {
   "cell_type": "markdown",
   "id": "c4832ea0",
   "metadata": {},
   "source": [
    "### Step 2.3: Distribution of Tracks\n",
    "We will create a plot to visualize the top tracks based on the number of occurrences in the dataset. This will help us understand which tracks are the most popular or frequently listened to."
   ]
  },
  {
   "cell_type": "code",
   "execution_count": 11,
   "id": "7023c229",
   "metadata": {},
   "outputs": [
    {
     "data": {
      "image/png": "[encoded data removed]",
      "text/plain": [
       "<Figure size 1200x600 with 1 Axes>"
      ]
     },
     "metadata": {},
     "output_type": "display_data"
    }
   ],
   "source": [
    "# Plot the distribution of tracks\n",
    "plt.figure(figsize=(12, 6))\n",
    "sns.countplot(y='track', data=df_cleaned, order=df_cleaned['track'].value_counts().index[:10])\n",
    "plt.title('Top 10 Tracks')\n",
    "plt.xlabel('Count')\n",
    "plt.ylabel('Track')\n",
    "plt.show()\n"
   ]
  },
  {
   "cell_type": "markdown",
   "id": "28ab7455",
   "metadata": {},
   "source": [
    "# Step 3: Data Preparation\n",
    "In this step, we'll prepare the data for building the recommender system. This involves transforming the data into the appropriate format for modeling. We'll use techniques such as encoding categorical variables and splitting the data into training and testing sets."
   ]
  },
  {
   "cell_type": "markdown",
   "id": "1e4d3915",
   "metadata": {},
   "source": [
    "### Step 3.1: Encoding Categorical Variables\n",
    "We'll encode the categorical variables user_id, artist_id, artist, track, and playlist into numerical representations using LabelEncoder."
   ]
  },
  {
   "cell_type": "code",
   "execution_count": 12,
   "id": "85a05b1a",
   "metadata": {},
   "outputs": [],
   "source": [
    "# Initialize LabelEncoder\n",
    "encoder = LabelEncoder()"
   ]
  },
  {
   "cell_type": "code",
   "execution_count": 13,
   "id": "df323c58",
   "metadata": {},
   "outputs": [],
   "source": [
    "# Encode categorical variables using .loc accessor\n",
    "df_cleaned.loc[:, 'user_id'] = encoder.fit_transform(df_cleaned['user_id'])\n",
    "df_cleaned.loc[:, 'artist_id'] = encoder.fit_transform(df_cleaned['artist_id'])\n",
    "df_cleaned.loc[:, 'artist'] = encoder.fit_transform(df_cleaned['artist'])\n",
    "df_cleaned.loc[:, 'track'] = encoder.fit_transform(df_cleaned['track'])\n",
    "df_cleaned.loc[:, 'playlist'] = encoder.fit_transform(df_cleaned['playlist'])\n"
   ]
  },
  {
   "cell_type": "markdown",
   "id": "eed5d94b",
   "metadata": {},
   "source": [
    "### Step 3.2: Splitting the Data\n",
    "Next, we'll split the data into training and testing sets. We'll use 80% of the data for training and 20% for testing."
   ]
  },
  {
   "cell_type": "code",
   "execution_count": 14,
   "id": "7ff40afb",
   "metadata": {},
   "outputs": [
    {
     "name": "stdout",
     "output_type": "stream",
     "text": [
      "Shape of X_train: (592412, 4)\n",
      "Shape of X_test: (148104, 4)\n",
      "Shape of y_train: (592412,)\n",
      "Shape of y_test: (148104,)\n"
     ]
    }
   ],
   "source": [
    "from sklearn.model_selection import train_test_split\n",
    "\n",
    "# Define features (X) and target variable (y)\n",
    "X = df_cleaned.drop(columns=['playlist'])\n",
    "y = df_cleaned['playlist']\n",
    "\n",
    "# Split the data into training and testing sets\n",
    "X_train, X_test, y_train, y_test = train_test_split(X, y, test_size=0.2, random_state=42)\n",
    "\n",
    "# Check the shapes of the resulting datasets\n",
    "print(\"Shape of X_train:\", X_train.shape)\n",
    "print(\"Shape of X_test:\", X_test.shape)\n",
    "print(\"Shape of y_train:\", y_train.shape)\n",
    "print(\"Shape of y_test:\", y_test.shape)\n"
   ]
  },
  {
   "cell_type": "markdown",
   "id": "0a002ca3",
   "metadata": {},
   "source": [
    "### Step 3.3: Creating User-Item Interaction Matrix\n",
    "\n",
    "We'll create a user-item interaction matrix from the training data. This matrix will represent how users interact with items (tracks)."
   ]
  },
  {
   "cell_type": "code",
   "execution_count": 15,
   "id": "a66218f5",
   "metadata": {},
   "outputs": [],
   "source": [
    "def create_interaction_matrix(data, user_col, item_col):\n",
    "    interaction_matrix = pd.pivot_table(data, index=user_col, columns=item_col, aggfunc=lambda x: 1, fill_value=0)\n",
    "    return interaction_matrix"
   ]
  },
  {
   "cell_type": "code",
   "execution_count": 16,
   "id": "f1412f43",
   "metadata": {},
   "outputs": [],
   "source": [
    "interaction_matrix = create_interaction_matrix(X_train, 'user_id', 'track')"
   ]
  },
  {
   "cell_type": "code",
   "execution_count": 17,
   "id": "90780911",
   "metadata": {
    "scrolled": true
   },
   "outputs": [
    {
     "data": {
      "text/html": [
       "<div>\n",
       "<style scoped>\n",
       "    .dataframe tbody tr th:only-of-type {\n",
       "        vertical-align: middle;\n",
       "    }\n",
       "\n",
       "    .dataframe tbody tr th {\n",
       "        vertical-align: top;\n",
       "    }\n",
       "\n",
       "    .dataframe thead tr th {\n",
       "        text-align: left;\n",
       "    }\n",
       "\n",
       "    .dataframe thead tr:last-of-type th {\n",
       "        text-align: right;\n",
       "    }\n",
       "</style>\n",
       "<table border=\"1\" class=\"dataframe\">\n",
       "  <thead>\n",
       "    <tr>\n",
       "      <th></th>\n",
       "      <th colspan=\"10\" halign=\"left\">artist</th>\n",
       "      <th>...</th>\n",
       "      <th colspan=\"10\" halign=\"left\">artist_id</th>\n",
       "    </tr>\n",
       "    <tr>\n",
       "      <th>track</th>\n",
       "      <th>0</th>\n",
       "      <th>1</th>\n",
       "      <th>2</th>\n",
       "      <th>3</th>\n",
       "      <th>4</th>\n",
       "      <th>5</th>\n",
       "      <th>6</th>\n",
       "      <th>7</th>\n",
       "      <th>8</th>\n",
       "      <th>9</th>\n",
       "      <th>...</th>\n",
       "      <th>234465</th>\n",
       "      <th>234466</th>\n",
       "      <th>234467</th>\n",
       "      <th>234468</th>\n",
       "      <th>234469</th>\n",
       "      <th>234470</th>\n",
       "      <th>234471</th>\n",
       "      <th>234472</th>\n",
       "      <th>234473</th>\n",
       "      <th>234474</th>\n",
       "    </tr>\n",
       "    <tr>\n",
       "      <th>user_id</th>\n",
       "      <th></th>\n",
       "      <th></th>\n",
       "      <th></th>\n",
       "      <th></th>\n",
       "      <th></th>\n",
       "      <th></th>\n",
       "      <th></th>\n",
       "      <th></th>\n",
       "      <th></th>\n",
       "      <th></th>\n",
       "      <th></th>\n",
       "      <th></th>\n",
       "      <th></th>\n",
       "      <th></th>\n",
       "      <th></th>\n",
       "      <th></th>\n",
       "      <th></th>\n",
       "      <th></th>\n",
       "      <th></th>\n",
       "      <th></th>\n",
       "      <th></th>\n",
       "    </tr>\n",
       "  </thead>\n",
       "  <tbody>\n",
       "    <tr>\n",
       "      <th>0</th>\n",
       "      <td>0</td>\n",
       "      <td>0</td>\n",
       "      <td>0</td>\n",
       "      <td>0</td>\n",
       "      <td>0</td>\n",
       "      <td>0</td>\n",
       "      <td>0</td>\n",
       "      <td>0</td>\n",
       "      <td>0</td>\n",
       "      <td>0</td>\n",
       "      <td>...</td>\n",
       "      <td>0</td>\n",
       "      <td>0</td>\n",
       "      <td>0</td>\n",
       "      <td>0</td>\n",
       "      <td>0</td>\n",
       "      <td>0</td>\n",
       "      <td>0</td>\n",
       "      <td>0</td>\n",
       "      <td>0</td>\n",
       "      <td>0</td>\n",
       "    </tr>\n",
       "    <tr>\n",
       "      <th>1</th>\n",
       "      <td>0</td>\n",
       "      <td>0</td>\n",
       "      <td>0</td>\n",
       "      <td>0</td>\n",
       "      <td>0</td>\n",
       "      <td>0</td>\n",
       "      <td>0</td>\n",
       "      <td>0</td>\n",
       "      <td>0</td>\n",
       "      <td>0</td>\n",
       "      <td>...</td>\n",
       "      <td>0</td>\n",
       "      <td>0</td>\n",
       "      <td>0</td>\n",
       "      <td>0</td>\n",
       "      <td>0</td>\n",
       "      <td>0</td>\n",
       "      <td>0</td>\n",
       "      <td>0</td>\n",
       "      <td>0</td>\n",
       "      <td>0</td>\n",
       "    </tr>\n",
       "    <tr>\n",
       "      <th>2</th>\n",
       "      <td>0</td>\n",
       "      <td>0</td>\n",
       "      <td>0</td>\n",
       "      <td>0</td>\n",
       "      <td>0</td>\n",
       "      <td>0</td>\n",
       "      <td>0</td>\n",
       "      <td>0</td>\n",
       "      <td>0</td>\n",
       "      <td>0</td>\n",
       "      <td>...</td>\n",
       "      <td>0</td>\n",
       "      <td>0</td>\n",
       "      <td>0</td>\n",
       "      <td>0</td>\n",
       "      <td>0</td>\n",
       "      <td>0</td>\n",
       "      <td>0</td>\n",
       "      <td>0</td>\n",
       "      <td>0</td>\n",
       "      <td>0</td>\n",
       "    </tr>\n",
       "    <tr>\n",
       "      <th>3</th>\n",
       "      <td>0</td>\n",
       "      <td>0</td>\n",
       "      <td>0</td>\n",
       "      <td>0</td>\n",
       "      <td>0</td>\n",
       "      <td>0</td>\n",
       "      <td>0</td>\n",
       "      <td>0</td>\n",
       "      <td>0</td>\n",
       "      <td>0</td>\n",
       "      <td>...</td>\n",
       "      <td>0</td>\n",
       "      <td>0</td>\n",
       "      <td>0</td>\n",
       "      <td>0</td>\n",
       "      <td>0</td>\n",
       "      <td>0</td>\n",
       "      <td>0</td>\n",
       "      <td>0</td>\n",
       "      <td>0</td>\n",
       "      <td>0</td>\n",
       "    </tr>\n",
       "    <tr>\n",
       "      <th>4</th>\n",
       "      <td>0</td>\n",
       "      <td>0</td>\n",
       "      <td>0</td>\n",
       "      <td>0</td>\n",
       "      <td>0</td>\n",
       "      <td>0</td>\n",
       "      <td>0</td>\n",
       "      <td>0</td>\n",
       "      <td>0</td>\n",
       "      <td>0</td>\n",
       "      <td>...</td>\n",
       "      <td>0</td>\n",
       "      <td>0</td>\n",
       "      <td>0</td>\n",
       "      <td>0</td>\n",
       "      <td>0</td>\n",
       "      <td>0</td>\n",
       "      <td>0</td>\n",
       "      <td>0</td>\n",
       "      <td>0</td>\n",
       "      <td>0</td>\n",
       "    </tr>\n",
       "    <tr>\n",
       "      <th>...</th>\n",
       "      <td>...</td>\n",
       "      <td>...</td>\n",
       "      <td>...</td>\n",
       "      <td>...</td>\n",
       "      <td>...</td>\n",
       "      <td>...</td>\n",
       "      <td>...</td>\n",
       "      <td>...</td>\n",
       "      <td>...</td>\n",
       "      <td>...</td>\n",
       "      <td>...</td>\n",
       "      <td>...</td>\n",
       "      <td>...</td>\n",
       "      <td>...</td>\n",
       "      <td>...</td>\n",
       "      <td>...</td>\n",
       "      <td>...</td>\n",
       "      <td>...</td>\n",
       "      <td>...</td>\n",
       "      <td>...</td>\n",
       "      <td>...</td>\n",
       "    </tr>\n",
       "    <tr>\n",
       "      <th>1301</th>\n",
       "      <td>0</td>\n",
       "      <td>0</td>\n",
       "      <td>0</td>\n",
       "      <td>0</td>\n",
       "      <td>0</td>\n",
       "      <td>0</td>\n",
       "      <td>0</td>\n",
       "      <td>0</td>\n",
       "      <td>0</td>\n",
       "      <td>0</td>\n",
       "      <td>...</td>\n",
       "      <td>0</td>\n",
       "      <td>0</td>\n",
       "      <td>0</td>\n",
       "      <td>0</td>\n",
       "      <td>0</td>\n",
       "      <td>0</td>\n",
       "      <td>0</td>\n",
       "      <td>0</td>\n",
       "      <td>0</td>\n",
       "      <td>0</td>\n",
       "    </tr>\n",
       "    <tr>\n",
       "      <th>1302</th>\n",
       "      <td>0</td>\n",
       "      <td>0</td>\n",
       "      <td>0</td>\n",
       "      <td>0</td>\n",
       "      <td>0</td>\n",
       "      <td>0</td>\n",
       "      <td>0</td>\n",
       "      <td>0</td>\n",
       "      <td>0</td>\n",
       "      <td>0</td>\n",
       "      <td>...</td>\n",
       "      <td>0</td>\n",
       "      <td>0</td>\n",
       "      <td>0</td>\n",
       "      <td>0</td>\n",
       "      <td>0</td>\n",
       "      <td>0</td>\n",
       "      <td>0</td>\n",
       "      <td>0</td>\n",
       "      <td>0</td>\n",
       "      <td>0</td>\n",
       "    </tr>\n",
       "    <tr>\n",
       "      <th>1303</th>\n",
       "      <td>0</td>\n",
       "      <td>0</td>\n",
       "      <td>0</td>\n",
       "      <td>0</td>\n",
       "      <td>0</td>\n",
       "      <td>0</td>\n",
       "      <td>0</td>\n",
       "      <td>0</td>\n",
       "      <td>0</td>\n",
       "      <td>0</td>\n",
       "      <td>...</td>\n",
       "      <td>0</td>\n",
       "      <td>0</td>\n",
       "      <td>0</td>\n",
       "      <td>0</td>\n",
       "      <td>0</td>\n",
       "      <td>0</td>\n",
       "      <td>0</td>\n",
       "      <td>0</td>\n",
       "      <td>0</td>\n",
       "      <td>0</td>\n",
       "    </tr>\n",
       "    <tr>\n",
       "      <th>1304</th>\n",
       "      <td>0</td>\n",
       "      <td>0</td>\n",
       "      <td>0</td>\n",
       "      <td>0</td>\n",
       "      <td>0</td>\n",
       "      <td>0</td>\n",
       "      <td>0</td>\n",
       "      <td>0</td>\n",
       "      <td>0</td>\n",
       "      <td>0</td>\n",
       "      <td>...</td>\n",
       "      <td>0</td>\n",
       "      <td>0</td>\n",
       "      <td>0</td>\n",
       "      <td>0</td>\n",
       "      <td>0</td>\n",
       "      <td>0</td>\n",
       "      <td>0</td>\n",
       "      <td>0</td>\n",
       "      <td>0</td>\n",
       "      <td>0</td>\n",
       "    </tr>\n",
       "    <tr>\n",
       "      <th>1305</th>\n",
       "      <td>0</td>\n",
       "      <td>0</td>\n",
       "      <td>0</td>\n",
       "      <td>0</td>\n",
       "      <td>0</td>\n",
       "      <td>0</td>\n",
       "      <td>0</td>\n",
       "      <td>0</td>\n",
       "      <td>0</td>\n",
       "      <td>0</td>\n",
       "      <td>...</td>\n",
       "      <td>0</td>\n",
       "      <td>0</td>\n",
       "      <td>0</td>\n",
       "      <td>0</td>\n",
       "      <td>0</td>\n",
       "      <td>0</td>\n",
       "      <td>0</td>\n",
       "      <td>0</td>\n",
       "      <td>0</td>\n",
       "      <td>0</td>\n",
       "    </tr>\n",
       "  </tbody>\n",
       "</table>\n",
       "<p>1306 rows × 410900 columns</p>\n",
       "</div>"
      ],
      "text/plain": [
       "        artist                                                                 \\\n",
       "track   0      1      2      3      4      5      6      7      8      9        \n",
       "user_id                                                                         \n",
       "0            0      0      0      0      0      0      0      0      0      0   \n",
       "1            0      0      0      0      0      0      0      0      0      0   \n",
       "2            0      0      0      0      0      0      0      0      0      0   \n",
       "3            0      0      0      0      0      0      0      0      0      0   \n",
       "4            0      0      0      0      0      0      0      0      0      0   \n",
       "...        ...    ...    ...    ...    ...    ...    ...    ...    ...    ...   \n",
       "1301         0      0      0      0      0      0      0      0      0      0   \n",
       "1302         0      0      0      0      0      0      0      0      0      0   \n",
       "1303         0      0      0      0      0      0      0      0      0      0   \n",
       "1304         0      0      0      0      0      0      0      0      0      0   \n",
       "1305         0      0      0      0      0      0      0      0      0      0   \n",
       "\n",
       "         ... artist_id                                                   \\\n",
       "track    ...    234465 234466 234467 234468 234469 234470 234471 234472   \n",
       "user_id  ...                                                              \n",
       "0        ...         0      0      0      0      0      0      0      0   \n",
       "1        ...         0      0      0      0      0      0      0      0   \n",
       "2        ...         0      0      0      0      0      0      0      0   \n",
       "3        ...         0      0      0      0      0      0      0      0   \n",
       "4        ...         0      0      0      0      0      0      0      0   \n",
       "...      ...       ...    ...    ...    ...    ...    ...    ...    ...   \n",
       "1301     ...         0      0      0      0      0      0      0      0   \n",
       "1302     ...         0      0      0      0      0      0      0      0   \n",
       "1303     ...         0      0      0      0      0      0      0      0   \n",
       "1304     ...         0      0      0      0      0      0      0      0   \n",
       "1305     ...         0      0      0      0      0      0      0      0   \n",
       "\n",
       "                       \n",
       "track   234473 234474  \n",
       "user_id                \n",
       "0            0      0  \n",
       "1            0      0  \n",
       "2            0      0  \n",
       "3            0      0  \n",
       "4            0      0  \n",
       "...        ...    ...  \n",
       "1301         0      0  \n",
       "1302         0      0  \n",
       "1303         0      0  \n",
       "1304         0      0  \n",
       "1305         0      0  \n",
       "\n",
       "[1306 rows x 410900 columns]"
      ]
     },
     "execution_count": 17,
     "metadata": {},
     "output_type": "execute_result"
    }
   ],
   "source": [
    "interaction_matrix"
   ]
  },
  {
   "cell_type": "markdown",
   "id": "8387649b",
   "metadata": {},
   "source": [
    "# Step 4: Model Training"
   ]
  },
  {
   "cell_type": "markdown",
   "id": "697491d8",
   "metadata": {},
   "source": [
    "### Step 4.1: Model Training - Matrix Factorization using Singular Value Decomposition (SVD)"
   ]
  },
  {
   "cell_type": "code",
   "execution_count": 18,
   "id": "e1961fdb",
   "metadata": {},
   "outputs": [],
   "source": [
    "import numpy as np\n",
    "\n",
    "# Perform Singular Value Decomposition (SVD)\n",
    "def svd_manual(matrix, k=50):\n",
    "    # Perform Singular Value Decomposition\n",
    "    U, Sigma, Vt = np.linalg.svd(matrix, full_matrices=False)\n",
    "    \n",
    "    # Keep only the top k singular values/vectors\n",
    "    U = U[:, :k]\n",
    "    Sigma = np.diag(Sigma[:k])\n",
    "    Vt = Vt[:k, :]\n",
    "    \n",
    "    return U, Sigma, Vt\n",
    "\n",
    "# Apply SVD to the interaction matrix\n",
    "U, Sigma, Vt = svd_manual(interaction_matrix, k=50)\n"
   ]
  },
  {
   "cell_type": "code",
   "execution_count": 19,
   "id": "b6c6b316",
   "metadata": {},
   "outputs": [
    {
     "data": {
      "text/plain": [
       "array([[-1.96425929e-02, -7.47368044e-03,  2.10669714e-02, ...,\n",
       "        -9.39499000e-03,  1.30139245e-02, -2.25762424e-03],\n",
       "       [-5.46216479e-04,  7.55504361e-05,  3.83820291e-04, ...,\n",
       "        -1.70677573e-05,  6.71981012e-04,  3.05368591e-04],\n",
       "       [-1.59270560e-02, -6.64194890e-03,  1.52430189e-02, ...,\n",
       "        -2.74461935e-02, -8.65048746e-03, -5.56591369e-03],\n",
       "       ...,\n",
       "       [-1.01984254e-02, -6.43219165e-03, -2.90662587e-03, ...,\n",
       "        -2.06742323e-03, -1.93458007e-03, -5.50618218e-03],\n",
       "       [-7.94337009e-03, -1.25224415e-03,  1.40026334e-03, ...,\n",
       "         1.05821054e-03,  1.48399031e-03, -6.15035352e-04],\n",
       "       [-3.47026651e-03, -1.43982777e-03, -4.03824477e-05, ...,\n",
       "        -4.02400087e-03,  1.36534632e-03, -2.22676898e-03]])"
      ]
     },
     "execution_count": 19,
     "metadata": {},
     "output_type": "execute_result"
    }
   ],
   "source": [
    "U"
   ]
  },
  {
   "cell_type": "code",
   "execution_count": 20,
   "id": "ef7e548a",
   "metadata": {},
   "outputs": [
    {
     "data": {
      "text/plain": [
       "array([[180.73282444,   0.        ,   0.        , ...,   0.        ,\n",
       "          0.        ,   0.        ],\n",
       "       [  0.        , 142.54915446,   0.        , ...,   0.        ,\n",
       "          0.        ,   0.        ],\n",
       "       [  0.        ,   0.        , 120.39138907, ...,   0.        ,\n",
       "          0.        ,   0.        ],\n",
       "       ...,\n",
       "       [  0.        ,   0.        ,   0.        , ...,  56.55075908,\n",
       "          0.        ,   0.        ],\n",
       "       [  0.        ,   0.        ,   0.        , ...,   0.        ,\n",
       "         56.12007601,   0.        ],\n",
       "       [  0.        ,   0.        ,   0.        , ...,   0.        ,\n",
       "          0.        ,  55.93136919]])"
      ]
     },
     "execution_count": 20,
     "metadata": {},
     "output_type": "execute_result"
    }
   ],
   "source": [
    "Sigma"
   ]
  },
  {
   "cell_type": "code",
   "execution_count": 21,
   "id": "368b23b7",
   "metadata": {},
   "outputs": [
    {
     "data": {
      "text/plain": [
       "array([[-3.72610654e-05, -1.65150237e-04, -9.41662794e-05, ...,\n",
       "        -9.11281778e-05, -4.91614552e-04, -9.11281778e-05],\n",
       "       [-1.77116460e-05,  1.31230601e-05,  3.65822750e-05, ...,\n",
       "        -5.16113100e-05, -2.33572362e-04, -5.16113100e-05],\n",
       "       [ 3.30446938e-05,  1.67170600e-04,  6.95986505e-05, ...,\n",
       "         1.21229109e-04,  2.36515943e-05,  1.21229109e-04],\n",
       "       ...,\n",
       "       [-1.02650103e-04, -6.77782239e-04,  6.69286806e-05, ...,\n",
       "        -1.78693885e-05,  2.81779419e-04, -1.78693885e-05],\n",
       "       [-2.82493777e-04,  3.90865380e-04, -9.84862198e-06, ...,\n",
       "         8.10652726e-05,  8.09748956e-04,  8.10652726e-05],\n",
       "       [ 7.45696850e-05,  4.22252313e-04, -1.08397953e-05, ...,\n",
       "         1.96709739e-05,  6.42848083e-04,  1.96709739e-05]])"
      ]
     },
     "execution_count": 21,
     "metadata": {},
     "output_type": "execute_result"
    }
   ],
   "source": [
    "Vt"
   ]
  },
  {
   "cell_type": "markdown",
   "id": "3c26b2dc",
   "metadata": {},
   "source": [
    "### Step 4.2: Model Evaluation - Mean Squared Error (MSE)"
   ]
  },
  {
   "cell_type": "code",
   "execution_count": 22,
   "id": "10eb5283",
   "metadata": {},
   "outputs": [
    {
     "name": "stdout",
     "output_type": "stream",
     "text": [
      "Mean Squared Error (MSE): 0.001455697783707166\n"
     ]
    }
   ],
   "source": [
    "# Calculate MSE between the predicted ratings and actual ratings\n",
    "def calculate_mse(actual_matrix, predicted_matrix):\n",
    "    # Compute Mean Squared Error\n",
    "    mse = np.mean((actual_matrix - predicted_matrix) ** 2)\n",
    "    return mse\n",
    "\n",
    "# Reconstruct the original matrix using the SVD factors\n",
    "predicted_ratings = np.dot(np.dot(U, Sigma), Vt)\n",
    "\n",
    "# Compute MSE\n",
    "mse = calculate_mse(interaction_matrix, predicted_ratings)\n",
    "print(\"Mean Squared Error (MSE):\", mse)\n"
   ]
  },
  {
   "cell_type": "markdown",
   "id": "599423b2",
   "metadata": {},
   "source": [
    "### Step 4.3: Recommendation Generation - Generate Top-N Recommendations\n",
    "We'll generate top-N recommendations for each user based on the predicted ratings. To do this, we can define a function that takes the user ID, the matrices obtained from SVD (U and Vt), the DataFrame containing track names and artist IDs, and the number of recommendations (n) as inputs. This function will return the top-N recommendations with track names for the specified user.\n",
    "\n",
    "- user_id: The ID of the user for whom recommendations are being generated.\n",
    "- U: The left singular vectors obtained from SVD.\n",
    "- Vt: The right singular vectors obtained from SVD.\n",
    "- df_tracks: The DataFrame containing track names and artist IDs.\n",
    "- n: The number of recommendations to generate for each user."
   ]
  },
  {
   "cell_type": "code",
   "execution_count": 32,
   "id": "e35ab20e",
   "metadata": {},
   "outputs": [],
   "source": [
    "def generate_top_n_recommendations(user_id, U, Vt, df_tracks, n=10):\n",
    "    # Get the index of the user\n",
    "    user_index = user_id\n",
    "    \n",
    "    # Predict ratings for the user\n",
    "    user_predicted_ratings = np.dot(U[user_index, :], Vt)\n",
    "    \n",
    "    # Get the indices of the top N items (songs) based on predicted ratings\n",
    "    top_n_indices = np.argsort(user_predicted_ratings)[::-1][:n]\n",
    "    \n",
    "    # Get the track IDs corresponding to the top N indices\n",
    "    top_n_track_ids = df_tracks.iloc[top_n_indices]['track'].values\n",
    "    \n",
    "    # Map track IDs to track names\n",
    "    top_n_track_names = []\n",
    "    track_mapping_values = []\n",
    "    for track_id in top_n_track_ids:\n",
    "        track_name = df_tracks[df_tracks['track'] == track_id]['track'].iloc[0]\n",
    "        top_n_track_names.append(track_name)\n",
    "        \n",
    "        # Get the mapping value (predicted rating) for the track\n",
    "        idx = np.where(df_tracks['track'] == track_id)[0][0]\n",
    "        mapping_value = user_predicted_ratings[idx]\n",
    "        track_mapping_values.append(mapping_value)\n",
    "    \n",
    "    # Create a DataFrame to store the recommendations and their mapping values\n",
    "    recommendations_df = pd.DataFrame({\n",
    "        'Track': top_n_track_names,\n",
    "    })\n",
    "    \n",
    "    return recommendations_df\n"
   ]
  },
  {
   "cell_type": "code",
   "execution_count": 33,
   "id": "8cfef3c1",
   "metadata": {
    "scrolled": true
   },
   "outputs": [
    {
     "name": "stdout",
     "output_type": "stream",
     "text": [
      "Enter user ID : 5\n",
      "How many songs do you want to recommend : 10\n",
      "Top 10 recommendations for user 5 :\n",
      "                                              Track\n",
      "0                             Anyone’s Ghost (Live)\n",
      "1                                    Smoke Detector\n",
      "2                            Stop - 2011 - Remaster\n",
      "3                                       The Undoing\n",
      "4             Red Light Indicates Doors Are Secured\n",
      "5                                      Livin' Thing\n",
      "6  Cielito Lindo / Descarga Divine Explosion - Live\n",
      "7                                      Of The Night\n",
      "8                                    Mouth To Mouth\n",
      "9                  God Only Knows - 1999 - Remaster\n"
     ]
    }
   ],
   "source": [
    "user_id = int(input(\"Enter user ID : \"))\n",
    "n_recommendations = int(input(\"How many songs do you want to recommend : \"))\n",
    "top_n_recommendations_df = generate_top_n_recommendations(user_id, U, Vt, df, n_recommendations)\n",
    "print(\"Top\", n_recommendations, \"recommendations for user\", user_id, \":\")\n",
    "print(top_n_recommendations_df)"
   ]
  },
  {
   "cell_type": "code",
   "execution_count": null,
   "id": "ece8b53e",
   "metadata": {},
   "outputs": [],
   "source": []
  }
 ],
 "metadata": {
  "kernelspec": {
   "display_name": "Python 3 (ipykernel)",
   "language": "python",
   "name": "python3"
  },
  "language_info": {
   "codemirror_mode": {
    "name": "ipython",
    "version": 3
   },
   "file_extension": ".py",
   "mimetype": "text/x-python",
   "name": "python",
   "nbconvert_exporter": "python",
   "pygments_lexer": "ipython3",
   "version": "3.9.6"
  }
 },
 "nbformat": 4,
 "nbformat_minor": 5
}
