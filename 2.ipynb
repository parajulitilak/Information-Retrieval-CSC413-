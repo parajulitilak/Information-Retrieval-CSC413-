{
 "cells": [
  {
   "cell_type": "markdown",
   "id": "ec3c53c9",
   "metadata": {},
   "source": [
    "# LAB 2 : Remove Stopwords from a given random sentence using the NLTK library. "
   ]
  },
  {
   "cell_type": "markdown",
   "id": "a6f7a4ef",
   "metadata": {},
   "source": [
    "\n",
    "\n",
    "## What are Stop words?\n",
    "\n",
    "A stop word is a commonly used word (such as “the”, “a”, “an”, or “in”) that a search engine has been programmed to ignore, both when indexing entries for searching and when retrieving them as the result of a search query.\n",
    "\n",
    "We would not want these words to take up space in our database or take up valuable processing time. For this, we can remove them easily, by storing a list of words that you consider to stop words. NLTK (Natural Language Toolkit) in Python has a list of stopwords stored in 16 different languages. You can find them in the nltk_data directory. `/home/PratimaPython/nltk_data/corpora/stopwords` is the directory address. (Do not forget to change your home directory name)\n",
    "\n",
    "## Stop word removal using NLTK\n",
    "\n",
    "### Need to remove the Stopwords\n",
    "\n",
    "The necessity of removing stopwords in NLP is contingent upon the specific task at hand. For text classification tasks, where the objective is to categorize text into distinct groups, excluding stopwords is common practice. This is done to channel more attention towards words that truly convey the essence of the text. As illustrated earlier, certain words like “there,” “book,” and “table” contribute significantly to the text’s meaning, unlike less informative words such as “is” and “on.”\n",
    "\n",
    "Conversely, for tasks like machine translation and text summarization, the removal of stopwords is not recommended. In these scenarios, every word plays a pivotal role in preserving the original meaning of the content.\n",
    "\n",
    "### Types of Stopwords\n",
    "\n",
    "Stopwords are frequently occurring words in a language that are frequently omitted from natural language processing (NLP) tasks due to their low significance for deciphering textual meaning. The particular list of stopwords can change based on the language being studied and the context. The following is a broad list of stopword categories:\n",
    "\n",
    "- **Common Stopwords:** These are the most frequently occurring words in a language and are often removed during text preprocessing. Examples include “the,” “is,” “in,” “for,” “where,” “when,” “to,” “at,” etc.\n",
    "- **Custom Stopwords:** Depending on the specific task or domain, additional words may be considered as stopwords. These could be domain-specific terms that don’t contribute much to the overall meaning. For example, in a medical context, words like “patient” or “treatment” might be considered as custom stopwords.\n",
    "- **Numerical Stopwords:** Numbers and numeric characters may be treated as stopwords in certain cases, especially when the analysis is focused on the meaning of the text rather than specific numerical values.\n",
    "- **Single-Character Stopwords:** Single characters, such as “a,” “I,” “s,” or “x,” may be considered stopwords, particularly in cases where they don’t convey much meaning on their own.\n",
    "- **Contextual Stopwords:** Words that are stopwords in one context but meaningful in another may be considered as contextual stopwords. For instance, the word “will” might be a stopword in the context of general language processing but could be important in predicting future events.\n"
   ]
  },
  {
   "cell_type": "markdown",
   "id": "87c9f58f",
   "metadata": {},
   "source": [
    "# 1. Imports and Setup:"
   ]
  },
  {
   "cell_type": "code",
   "execution_count": 1,
   "id": "ea080eaf",
   "metadata": {},
   "outputs": [
    {
     "data": {
      "text/plain": [
       "True"
      ]
     },
     "execution_count": 1,
     "metadata": {},
     "output_type": "execute_result"
    }
   ],
   "source": [
    "import nltk\n",
    "from nltk.corpus import stopwords\n",
    "\n",
    "nltk.download('stopwords', quiet=True)\n"
   ]
  },
  {
   "cell_type": "code",
   "execution_count": 12,
   "id": "98d473bc",
   "metadata": {},
   "outputs": [
    {
     "name": "stdout",
     "output_type": "stream",
     "text": [
      "['i', 'me', 'my', 'myself', 'we', 'our', 'ours', 'ourselves', 'you', \"you're\", \"you've\", \"you'll\", \"you'd\", 'your', 'yours', 'yourself', 'yourselves', 'he', 'him', 'his', 'himself', 'she', \"she's\", 'her', 'hers', 'herself', 'it', \"it's\", 'its', 'itself', 'they', 'them', 'their', 'theirs', 'themselves', 'what', 'which', 'who', 'whom', 'this', 'that', \"that'll\", 'these', 'those', 'am', 'is', 'are', 'was', 'were', 'be', 'been', 'being', 'have', 'has', 'had', 'having', 'do', 'does', 'did', 'doing', 'a', 'an', 'the', 'and', 'but', 'if', 'or', 'because', 'as', 'until', 'while', 'of', 'at', 'by', 'for', 'with', 'about', 'against', 'between', 'into', 'through', 'during', 'before', 'after', 'above', 'below', 'to', 'from', 'up', 'down', 'in', 'out', 'on', 'off', 'over', 'under', 'again', 'further', 'then', 'once', 'here', 'there', 'when', 'where', 'why', 'how', 'all', 'any', 'both', 'each', 'few', 'more', 'most', 'other', 'some', 'such', 'no', 'nor', 'not', 'only', 'own', 'same', 'so', 'than', 'too', 'very', 's', 't', 'can', 'will', 'just', 'don', \"don't\", 'should', \"should've\", 'now', 'd', 'll', 'm', 'o', 're', 've', 'y', 'ain', 'aren', \"aren't\", 'couldn', \"couldn't\", 'didn', \"didn't\", 'doesn', \"doesn't\", 'hadn', \"hadn't\", 'hasn', \"hasn't\", 'haven', \"haven't\", 'isn', \"isn't\", 'ma', 'mightn', \"mightn't\", 'mustn', \"mustn't\", 'needn', \"needn't\", 'shan', \"shan't\", 'shouldn', \"shouldn't\", 'wasn', \"wasn't\", 'weren', \"weren't\", 'won', \"won't\", 'wouldn', \"wouldn't\"]\n"
     ]
    }
   ],
   "source": [
    "print(stopwords.words('english'))"
   ]
  },
  {
   "cell_type": "markdown",
   "id": "5dfc26ea",
   "metadata": {},
   "source": [
    "# 2. User Input:"
   ]
  },
  {
   "cell_type": "code",
   "execution_count": 2,
   "id": "e139eaf1",
   "metadata": {},
   "outputs": [
    {
     "name": "stdout",
     "output_type": "stream",
     "text": [
      "Enter a sentence to remove stop words from: hello my name is tilak, the of my is tilaks parajuli is good boy\n",
      "\n",
      "Your input sentence: hello my name is tilak, the of my is tilaks parajuli is good boy\n"
     ]
    }
   ],
   "source": [
    "sentence = input(\"Enter a sentence to remove stop words from: \")\n",
    "print(\"\\nYour input sentence:\", sentence)\n"
   ]
  },
  {
   "cell_type": "markdown",
   "id": "24091635",
   "metadata": {},
   "source": [
    "# 3. Stop Word Removal Function:"
   ]
  },
  {
   "cell_type": "code",
   "execution_count": 3,
   "id": "cb25f5c1",
   "metadata": {},
   "outputs": [],
   "source": [
    "def remove_stop_words(sentence):\n",
    "\n",
    "    try:\n",
    "        sentence_lower = sentence.lower()\n",
    "\n",
    "        words = nltk.word_tokenize(sentence_lower)\n",
    "\n",
    "        stop_words = set(stopwords.words('english'))\n",
    "\n",
    "        filtered_words = [word for word in words if word not in stop_words]\n",
    "\n",
    "        filtered_sentence = \" \".join(filtered_words)\n",
    "\n",
    "        return filtered_sentence\n",
    "\n",
    "    except LookupError:\n",
    "        return \"Error: Could not load stopwords from NLTK. Please try again later.\"\n",
    "\n"
   ]
  },
  {
   "cell_type": "code",
   "execution_count": 4,
   "id": "7cd4c29e",
   "metadata": {},
   "outputs": [],
   "source": [
    "filtered_sentence = remove_stop_words(sentence)\n"
   ]
  },
  {
   "cell_type": "markdown",
   "id": "7da974ef",
   "metadata": {},
   "source": [
    "# 4. Output and Visualization:"
   ]
  },
  {
   "cell_type": "code",
   "execution_count": 5,
   "id": "f71c2d25",
   "metadata": {
    "scrolled": true
   },
   "outputs": [
    {
     "name": "stdout",
     "output_type": "stream",
     "text": [
      "\n",
      "Original Sentence (with stop words):\n",
      "\thello my name is tilak, the of my is tilaks parajuli is good boy\n",
      "\n",
      "Filtered Sentence (without stop words):\n",
      "\thello name tilak , tilaks parajuli good boy\n",
      "\n"
     ]
    }
   ],
   "source": [
    "# Display the original and filtered sentences with headings and colors\n",
    "print(\"\\nOriginal Sentence (with stop words):\")\n",
    "print(f\"\\t{sentence}\")\n",
    "\n",
    "print(\"\\nFiltered Sentence (without stop words):\")\n",
    "print(f\"\\t{filtered_sentence}\\n\")\n"
   ]
  },
  {
   "cell_type": "markdown",
   "id": "6a16e36b",
   "metadata": {},
   "source": [
    "# 5. Visualization"
   ]
  },
  {
   "cell_type": "code",
   "execution_count": 6,
   "id": "20332a91",
   "metadata": {},
   "outputs": [],
   "source": [
    "words_before = len(sentence.split())\n",
    "words_after = len(filtered_sentence.split())\n"
   ]
  },
  {
   "cell_type": "code",
   "execution_count": 7,
   "id": "19bb2f19",
   "metadata": {},
   "outputs": [
    {
     "data": {
      "text/plain": [
       "14"
      ]
     },
     "execution_count": 7,
     "metadata": {},
     "output_type": "execute_result"
    }
   ],
   "source": [
    "words_before"
   ]
  },
  {
   "cell_type": "code",
   "execution_count": 8,
   "id": "b0c8b300",
   "metadata": {},
   "outputs": [
    {
     "data": {
      "text/plain": [
       "8"
      ]
     },
     "execution_count": 8,
     "metadata": {},
     "output_type": "execute_result"
    }
   ],
   "source": [
    "words_after"
   ]
  },
  {
   "cell_type": "code",
   "execution_count": 10,
   "id": "1cd0288c",
   "metadata": {
    "scrolled": true
   },
   "outputs": [
    {
     "data": {
      "image/png": "[encoded data removed]",
      "text/plain": [
       "<Figure size 500x300 with 1 Axes>"
      ]
     },
     "metadata": {},
     "output_type": "display_data"
    }
   ],
   "source": [
    "import matplotlib.pyplot as plt\n",
    "\n",
    "# Plot words before and after stop word removal\n",
    "plt.figure(figsize=(5, 3))\n",
    "\n",
    "# Plot words before\n",
    "plt.bar(['Before'], [words_before], color='blue')\n",
    "plt.text('Before', words_before, str(words_before), ha='center', va='bottom')\n",
    "\n",
    "# Plot words after\n",
    "plt.bar(['After'], [words_after], color='green')\n",
    "plt.text('After', words_after, str(words_after), ha='center', va='bottom')\n",
    "\n",
    "plt.title('Number of Words Before and After Stop Word Removal')\n",
    "plt.ylabel('Number of Words')\n",
    "plt.ylim(0, max(words_before, words_after) * 1.2)\n",
    "plt.show()\n"
   ]
  }
 ],
 "metadata": {
  "kernelspec": {
   "display_name": "Python 3 (ipykernel)",
   "language": "python",
   "name": "python3"
  },
  "language_info": {
   "codemirror_mode": {
    "name": "ipython",
    "version": 3
   },
   "file_extension": ".py",
   "mimetype": "text/x-python",
   "name": "python",
   "nbconvert_exporter": "python",
   "pygments_lexer": "ipython3",
   "version": "3.9.6"
  }
 },
 "nbformat": 4,
 "nbformat_minor": 5
}
