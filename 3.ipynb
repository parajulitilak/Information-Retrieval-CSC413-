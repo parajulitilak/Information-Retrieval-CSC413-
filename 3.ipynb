{
 "cells": [
  {
   "cell_type": "markdown",
   "id": "388ff9a9",
   "metadata": {},
   "source": [
    "# LAB 3 : Perform the following text operation with the help of suitable paragraph of your own choice\n",
    "    a. Lowercasing\n",
    "    b. Tokenization\n",
    "    c. Stemming\n",
    "    d. Punctuation removal\n",
    "    e. Stop words removal\n",
    "    f. Lammatization\n",
    "    \n",
    "1. **Lowercasing**\n",
    "   - **Definition:** Lowercasing converts all letters in the text to lowercase. This is often done to ensure consistency in text analysis and processing.\n",
    "   - **Example:** Original text: \"The Quick Brown Fox Jumps Over The Lazy Dog\"\n",
    "                 Lowercased text: \"the quick brown fox jumps over the lazy dog\"\n",
    "\n",
    "2. **Tokenization**\n",
    "   - **Definition:** Tokenization involves splitting a text into individual words or tokens.\n",
    "   - **Example:** Original text: \"The Quick Brown Fox Jumps Over The Lazy Dog\"\n",
    "                 Tokens: [\"The\", \"Quick\", \"Brown\", \"Fox\", \"Jumps\", \"Over\", \"The\", \"Lazy\", \"Dog\"]\n",
    "\n",
    "3. **Stemming**\n",
    "   - **Definition:** Stemming reduces words to their root or base form. It removes suffixes from words.\n",
    "   - **Example:** For the root word \"like\":\n",
    "                 - \"likes\"\n",
    "                 - \"liked\"\n",
    "                 - \"likely\"\n",
    "                 - \"liking\"\n",
    "\n",
    "4. **Punctuation Removal**\n",
    "   - **Definition:** Punctuation removal involves removing all punctuation marks from the text.\n",
    "   - **Example:** Original text: \"The Quick, Brown Fox Jumps Over The Lazy Dog!\"\n",
    "                 Text after punctuation removal: \"The Quick Brown Fox Jumps Over The Lazy Dog\"\n",
    "\n",
    "5. **Stop Words Removal**\n",
    "   - **Definition:** Stop words removal involves removing common words (e.g., 'is', 'and', 'the') that do not carry much meaning.\n",
    "   - **Example:** Original text: \"The Quick Brown Fox Jumps Over The Lazy Dog\"\n",
    "                 Text after stop words removal: \"Quick Brown Fox Jumps Lazy Dog\"\n",
    "\n",
    "6. **Lemmatization**\n",
    "   - **Definition:** Lemmatization involves reducing words to their base or dictionary form (lemma).\n",
    "   - **Example:** Original text: \"The Quick Brown Fox Jumps Over The Lazy Dog\"\n",
    "                 Lemmatized text: \"The Quick Brown Fox Jumps Over The Lazy Dog\"\n"
   ]
  },
  {
   "cell_type": "markdown",
   "id": "d12e1009",
   "metadata": {},
   "source": [
    "Prime Minister Pushpa Kamal Dahal, who is also chancellor of the Tribhuvan University, on Thursday appointed Professor Keshar Jung Baral as the vice-chancellor of the university.\n",
    "The former Pokhara University vice-chancellor will serve in the position for four years.\n",
    "Baral holds a PhD in Capital Structure and Cost of Capital from Delhi University. He is a professor of finance at the Tribhuvan University.\n",
    "He is the 20th person to assume the office since the university’s establishment in 1959.\n",
    "The varsity’s search committee had called for applications from aspirants to lead the country’s largest university last month.\n",
    "From a total of 43 applicants, the committee had short-listed 14 and made their names public earlier this month.\n",
    "Professor Baral was one of the three candidates—including Chitra Bahadur Budhathoki and Tankanath Dhamala— recommended by the search committee headed by Minister for Education Ashok Kumar Rai."
   ]
  },
  {
   "cell_type": "code",
   "execution_count": 1,
   "id": "ebe5226a",
   "metadata": {},
   "outputs": [],
   "source": [
    "import nltk"
   ]
  },
  {
   "cell_type": "code",
   "execution_count": 2,
   "id": "383993dc",
   "metadata": {
    "scrolled": true
   },
   "outputs": [
    {
     "name": "stdout",
     "output_type": "stream",
     "text": [
      "Enter the paragraph of text: Prime Minister Pushpa Kamal Dahal, who is also chancellor of the Tribhuvan University, on Thursday appointed Professor Keshar Jung Baral as the vice-chancellor of the university. The former Pokhara University vice-chancellor will serve in the position for four years. Baral holds a PhD in Capital Structure and Cost of Capital from Delhi University. He is a professor of finance at the Tribhuvan University. He is the 20th person to assume the office since the university’s establishment in 1959. The varsity’s search committee had called for applications from aspirants to lead the country’s largest university last month. From a total of 43 applicants, the committee had short-listed 14 and made their names public earlier this month. Professor Baral was one of the three candidates—including Chitra Bahadur Budhathoki and Tankanath Dhamala— recommended by the search committee headed by Minister for Education Ashok Kumar Rai.\n"
     ]
    }
   ],
   "source": [
    "paragraph = input(\"Enter the paragraph of text: \")"
   ]
  },
  {
   "cell_type": "code",
   "execution_count": 3,
   "id": "45165615",
   "metadata": {},
   "outputs": [],
   "source": [
    "from nltk.corpus import stopwords\n",
    "nltk.download('stopwords', quiet=True)\n",
    "from nltk.stem import WordNetLemmatizer"
   ]
  },
  {
   "cell_type": "markdown",
   "id": "dafa5cd5",
   "metadata": {},
   "source": [
    "# 1. Lowercasing\n",
    "Lowercasing converts all letters in the text to lowercase. This is often done to ensure consistency in text analysis and processing."
   ]
  },
  {
   "cell_type": "code",
   "execution_count": 4,
   "id": "f1d7fdfa",
   "metadata": {},
   "outputs": [
    {
     "name": "stdout",
     "output_type": "stream",
     "text": [
      "Lowercased paragraph:\n",
      "prime minister pushpa kamal dahal, who is also chancellor of the tribhuvan university, on thursday appointed professor keshar jung baral as the vice-chancellor of the university. the former pokhara university vice-chancellor will serve in the position for four years. baral holds a phd in capital structure and cost of capital from delhi university. he is a professor of finance at the tribhuvan university. he is the 20th person to assume the office since the university’s establishment in 1959. the varsity’s search committee had called for applications from aspirants to lead the country’s largest university last month. from a total of 43 applicants, the committee had short-listed 14 and made their names public earlier this month. professor baral was one of the three candidates—including chitra bahadur budhathoki and tankanath dhamala— recommended by the search committee headed by minister for education ashok kumar rai.\n"
     ]
    }
   ],
   "source": [
    "lowercase_paragraph = paragraph.lower()\n",
    "\n",
    "print(\"Lowercased paragraph:\")\n",
    "print(lowercase_paragraph)\n"
   ]
  },
  {
   "cell_type": "markdown",
   "id": "3e8c4619",
   "metadata": {},
   "source": [
    "# 2. Tokenization\n",
    "Tokenization involves splitting a text into individual words or tokens."
   ]
  },
  {
   "cell_type": "code",
   "execution_count": 5,
   "id": "2a5084c3",
   "metadata": {},
   "outputs": [
    {
     "name": "stdout",
     "output_type": "stream",
     "text": [
      "\n",
      "Tokens:\n",
      "['Prime', 'Minister', 'Pushpa', 'Kamal', 'Dahal', ',', 'who', 'is', 'also', 'chancellor', 'of', 'the', 'Tribhuvan', 'University', ',', 'on', 'Thursday', 'appointed', 'Professor', 'Keshar', 'Jung', 'Baral', 'as', 'the', 'vice-chancellor', 'of', 'the', 'university', '.', 'The', 'former', 'Pokhara', 'University', 'vice-chancellor', 'will', 'serve', 'in', 'the', 'position', 'for', 'four', 'years', '.', 'Baral', 'holds', 'a', 'PhD', 'in', 'Capital', 'Structure', 'and', 'Cost', 'of', 'Capital', 'from', 'Delhi', 'University', '.', 'He', 'is', 'a', 'professor', 'of', 'finance', 'at', 'the', 'Tribhuvan', 'University', '.', 'He', 'is', 'the', '20th', 'person', 'to', 'assume', 'the', 'office', 'since', 'the', 'university', '’', 's', 'establishment', 'in', '1959', '.', 'The', 'varsity', '’', 's', 'search', 'committee', 'had', 'called', 'for', 'applications', 'from', 'aspirants', 'to', 'lead', 'the', 'country', '’', 's', 'largest', 'university', 'last', 'month', '.', 'From', 'a', 'total', 'of', '43', 'applicants', ',', 'the', 'committee', 'had', 'short-listed', '14', 'and', 'made', 'their', 'names', 'public', 'earlier', 'this', 'month', '.', 'Professor', 'Baral', 'was', 'one', 'of', 'the', 'three', 'candidates—including', 'Chitra', 'Bahadur', 'Budhathoki', 'and', 'Tankanath', 'Dhamala—', 'recommended', 'by', 'the', 'search', 'committee', 'headed', 'by', 'Minister', 'for', 'Education', 'Ashok', 'Kumar', 'Rai', '.']\n"
     ]
    }
   ],
   "source": [
    "import nltk\n",
    "\n",
    "# Tokenization\n",
    "tokens = nltk.word_tokenize(paragraph)\n",
    "\n",
    "print(\"\\nTokens:\")\n",
    "print(tokens)\n"
   ]
  },
  {
   "cell_type": "markdown",
   "id": "bb7d28f0",
   "metadata": {},
   "source": [
    "# 3. Stemming\n",
    "Stemming reduces words to their root or base form. It removes suffixes from words."
   ]
  },
  {
   "cell_type": "code",
   "execution_count": 6,
   "id": "8061b617",
   "metadata": {},
   "outputs": [
    {
     "name": "stdout",
     "output_type": "stream",
     "text": [
      "\n",
      "Stemmed words:\n",
      "['prime', 'minist', 'pushpa', 'kamal', 'dahal', ',', 'who', 'is', 'also', 'chancellor', 'of', 'the', 'tribhuvan', 'univers', ',', 'on', 'thursday', 'appoint', 'professor', 'keshar', 'jung', 'baral', 'as', 'the', 'vice-chancellor', 'of', 'the', 'univers', '.', 'the', 'former', 'pokhara', 'univers', 'vice-chancellor', 'will', 'serv', 'in', 'the', 'posit', 'for', 'four', 'year', '.', 'baral', 'hold', 'a', 'phd', 'in', 'capit', 'structur', 'and', 'cost', 'of', 'capit', 'from', 'delhi', 'univers', '.', 'he', 'is', 'a', 'professor', 'of', 'financ', 'at', 'the', 'tribhuvan', 'univers', '.', 'he', 'is', 'the', '20th', 'person', 'to', 'assum', 'the', 'offic', 'sinc', 'the', 'univers', '’', 's', 'establish', 'in', '1959', '.', 'the', 'varsiti', '’', 's', 'search', 'committe', 'had', 'call', 'for', 'applic', 'from', 'aspir', 'to', 'lead', 'the', 'countri', '’', 's', 'largest', 'univers', 'last', 'month', '.', 'from', 'a', 'total', 'of', '43', 'applic', ',', 'the', 'committe', 'had', 'short-list', '14', 'and', 'made', 'their', 'name', 'public', 'earlier', 'thi', 'month', '.', 'professor', 'baral', 'wa', 'one', 'of', 'the', 'three', 'candidates—includ', 'chitra', 'bahadur', 'budhathoki', 'and', 'tankanath', 'dhamala—', 'recommend', 'by', 'the', 'search', 'committe', 'head', 'by', 'minist', 'for', 'educ', 'ashok', 'kumar', 'rai', '.']\n"
     ]
    }
   ],
   "source": [
    "from nltk.stem import PorterStemmer\n",
    "\n",
    "# Initialize stemmer\n",
    "stemmer = PorterStemmer()\n",
    "\n",
    "# Stemming\n",
    "stemmed_words = [stemmer.stem(token) for token in tokens]\n",
    "\n",
    "print(\"\\nStemmed words:\")\n",
    "print(stemmed_words)\n"
   ]
  },
  {
   "cell_type": "markdown",
   "id": "3b9d0619",
   "metadata": {},
   "source": [
    "# 4. Punctuation Removal\n",
    "Punctuation removal involves removing all punctuation marks from the text."
   ]
  },
  {
   "cell_type": "code",
   "execution_count": 7,
   "id": "edc25c13",
   "metadata": {},
   "outputs": [
    {
     "name": "stdout",
     "output_type": "stream",
     "text": [
      "\n",
      "Tokens after punctuation removal:\n",
      "['Prime', 'Minister', 'Pushpa', 'Kamal', 'Dahal', 'who', 'is', 'also', 'chancellor', 'of', 'the', 'Tribhuvan', 'University', 'on', 'Thursday', 'appointed', 'Professor', 'Keshar', 'Jung', 'Baral', 'as', 'the', 'vice-chancellor', 'of', 'the', 'university', 'The', 'former', 'Pokhara', 'University', 'vice-chancellor', 'will', 'serve', 'in', 'the', 'position', 'for', 'four', 'years', 'Baral', 'holds', 'a', 'PhD', 'in', 'Capital', 'Structure', 'and', 'Cost', 'of', 'Capital', 'from', 'Delhi', 'University', 'He', 'is', 'a', 'professor', 'of', 'finance', 'at', 'the', 'Tribhuvan', 'University', 'He', 'is', 'the', '20th', 'person', 'to', 'assume', 'the', 'office', 'since', 'the', 'university', '’', 's', 'establishment', 'in', '1959', 'The', 'varsity', '’', 's', 'search', 'committee', 'had', 'called', 'for', 'applications', 'from', 'aspirants', 'to', 'lead', 'the', 'country', '’', 's', 'largest', 'university', 'last', 'month', 'From', 'a', 'total', 'of', '43', 'applicants', 'the', 'committee', 'had', 'short-listed', '14', 'and', 'made', 'their', 'names', 'public', 'earlier', 'this', 'month', 'Professor', 'Baral', 'was', 'one', 'of', 'the', 'three', 'candidates—including', 'Chitra', 'Bahadur', 'Budhathoki', 'and', 'Tankanath', 'Dhamala—', 'recommended', 'by', 'the', 'search', 'committee', 'headed', 'by', 'Minister', 'for', 'Education', 'Ashok', 'Kumar', 'Rai']\n"
     ]
    }
   ],
   "source": [
    "import string\n",
    "\n",
    "# Punctuation removal\n",
    "cleaned_tokens = [token for token in tokens if token not in string.punctuation]\n",
    "\n",
    "print(\"\\nTokens after punctuation removal:\")\n",
    "print(cleaned_tokens)\n"
   ]
  },
  {
   "cell_type": "markdown",
   "id": "d347e7ae",
   "metadata": {},
   "source": [
    "# 5. Stop Words Removal\n",
    "Stop words removal involves removing common words (e.g., 'is', 'and', 'the') that do not carry much meaning."
   ]
  },
  {
   "cell_type": "code",
   "execution_count": 8,
   "id": "ecc784a2",
   "metadata": {},
   "outputs": [
    {
     "name": "stdout",
     "output_type": "stream",
     "text": [
      "\n",
      "Tokens after stop words removal:\n",
      "['Prime', 'Minister', 'Pushpa', 'Kamal', 'Dahal', 'also', 'chancellor', 'Tribhuvan', 'University', 'Thursday', 'appointed', 'Professor', 'Keshar', 'Jung', 'Baral', 'vice-chancellor', 'university', 'former', 'Pokhara', 'University', 'vice-chancellor', 'serve', 'position', 'four', 'years', 'Baral', 'holds', 'PhD', 'Capital', 'Structure', 'Cost', 'Capital', 'Delhi', 'University', 'professor', 'finance', 'Tribhuvan', 'University', '20th', 'person', 'assume', 'office', 'since', 'university', '’', 'establishment', '1959', 'varsity', '’', 'search', 'committee', 'called', 'applications', 'aspirants', 'lead', 'country', '’', 'largest', 'university', 'last', 'month', 'total', '43', 'applicants', 'committee', 'short-listed', '14', 'made', 'names', 'public', 'earlier', 'month', 'Professor', 'Baral', 'one', 'three', 'candidates—including', 'Chitra', 'Bahadur', 'Budhathoki', 'Tankanath', 'Dhamala—', 'recommended', 'search', 'committee', 'headed', 'Minister', 'Education', 'Ashok', 'Kumar', 'Rai']\n"
     ]
    }
   ],
   "source": [
    "# Get stopwords list\n",
    "stop_words = set(stopwords.words('english'))\n",
    "\n",
    "# Stop words removal\n",
    "filtered_tokens = [token for token in cleaned_tokens if token.lower() not in stop_words]\n",
    "\n",
    "print(\"\\nTokens after stop words removal:\")\n",
    "print(filtered_tokens)\n"
   ]
  },
  {
   "cell_type": "markdown",
   "id": "a0adae28",
   "metadata": {},
   "source": [
    "# 6. Lemmatization\n",
    "Lemmatization involves reducing words to their base or dictionary form (lemma)."
   ]
  },
  {
   "cell_type": "code",
   "execution_count": 9,
   "id": "80c1649b",
   "metadata": {},
   "outputs": [
    {
     "name": "stdout",
     "output_type": "stream",
     "text": [
      "\n",
      "Lemmatized words:\n",
      "['Prime', 'Minister', 'Pushpa', 'Kamal', 'Dahal', 'also', 'chancellor', 'Tribhuvan', 'University', 'Thursday', 'appointed', 'Professor', 'Keshar', 'Jung', 'Baral', 'vice-chancellor', 'university', 'former', 'Pokhara', 'University', 'vice-chancellor', 'serve', 'position', 'four', 'year', 'Baral', 'hold', 'PhD', 'Capital', 'Structure', 'Cost', 'Capital', 'Delhi', 'University', 'professor', 'finance', 'Tribhuvan', 'University', '20th', 'person', 'assume', 'office', 'since', 'university', '’', 'establishment', '1959', 'varsity', '’', 'search', 'committee', 'called', 'application', 'aspirant', 'lead', 'country', '’', 'largest', 'university', 'last', 'month', 'total', '43', 'applicant', 'committee', 'short-listed', '14', 'made', 'name', 'public', 'earlier', 'month', 'Professor', 'Baral', 'one', 'three', 'candidates—including', 'Chitra', 'Bahadur', 'Budhathoki', 'Tankanath', 'Dhamala—', 'recommended', 'search', 'committee', 'headed', 'Minister', 'Education', 'Ashok', 'Kumar', 'Rai']\n"
     ]
    }
   ],
   "source": [
    "# Lemmatization\n",
    "lemmatizer = WordNetLemmatizer()\n",
    "lemmatized_words = [lemmatizer.lemmatize(token) for token in filtered_tokens]\n",
    "\n",
    "# Show lemmatized words\n",
    "print(\"\\nLemmatized words:\")\n",
    "print(lemmatized_words)"
   ]
  }
 ],
 "metadata": {
  "kernelspec": {
   "display_name": "Python 3 (ipykernel)",
   "language": "python",
   "name": "python3"
  },
  "language_info": {
   "codemirror_mode": {
    "name": "ipython",
    "version": 3
   },
   "file_extension": ".py",
   "mimetype": "text/x-python",
   "name": "python",
   "nbconvert_exporter": "python",
   "pygments_lexer": "ipython3",
   "version": "3.9.6"
  }
 },
 "nbformat": 4,
 "nbformat_minor": 5
}
